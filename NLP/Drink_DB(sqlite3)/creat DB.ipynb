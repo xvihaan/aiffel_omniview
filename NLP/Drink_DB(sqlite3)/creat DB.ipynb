{
 "cells": [
  {
   "cell_type": "code",
   "execution_count": 4,
   "id": "e796a30f",
   "metadata": {},
   "outputs": [
    {
     "name": "stdout",
     "output_type": "stream",
     "text": [
      "Collecting openpyxl\n",
      "  Downloading openpyxl-3.1.5-py2.py3-none-any.whl (250 kB)\n",
      "     |████████████████████████████████| 250 kB 5.1 MB/s            \n",
      "\u001b[?25hCollecting et-xmlfile\n",
      "  Downloading et_xmlfile-2.0.0-py3-none-any.whl (18 kB)\n",
      "Installing collected packages: et-xmlfile, openpyxl\n",
      "Successfully installed et-xmlfile-2.0.0 openpyxl-3.1.5\n",
      "\u001b[33mWARNING: Running pip as the 'root' user can result in broken permissions and conflicting behaviour with the system package manager. It is recommended to use a virtual environment instead: https://pip.pypa.io/warnings/venv\u001b[0m\n"
     ]
    }
   ],
   "source": [
    "!pip install openpyxl"
   ]
  },
  {
   "cell_type": "code",
   "execution_count": 9,
   "id": "d1681697",
   "metadata": {},
   "outputs": [
    {
     "name": "stdout",
     "output_type": "stream",
     "text": [
      "Inserted 15351 rows.\n"
     ]
    }
   ],
   "source": [
    "import sqlite3\n",
    "import pandas as pd\n",
    "\n",
    "# SQLite 데이터베이스 연결\n",
    "conn = sqlite3.connect('Drink_DB.db')\n",
    "cursor = conn.cursor()\n",
    "\n",
    "# 테이블 생성 (Exercise code를 기본 키로 설정)\n",
    "cursor.execute('''CREATE TABLE IF NOT EXISTS Drink (\n",
    "               Exercise_code TEXT PRIMARY KEY,\n",
    "               식품명 TEXT,\n",
    "               제조사명 TEXT,\n",
    "               영양성분함량기준량 TEXT,\n",
    "               \"에너지(kcal)\" TEXT,\n",
    "               \"단백질(g)\" TEXT,\n",
    "               \"지방(g)\" TEXT,\n",
    "               \"탄수화물(g)\" TEXT,\n",
    "               \"당류(g)\" TEXT,\n",
    "               \"나트륨(mg)\" TEXT,\n",
    "               \"콜레스테롤(mg)\" TEXT,\n",
    "               \"포화지방산(g)\" TEXT,\n",
    "               \"트랜스지방산(g)\" TEXT,\n",
    "               식품중량 TEXT\n",
    "                )''')\n",
    "\n",
    "# Excel 파일 읽기\n",
    "xlsx_file = pd.ExcelFile('Drink_DB_v2.xlsx')\n",
    "df = xlsx_file.parse(xlsx_file.sheet_names[0])\n",
    "Drink_code = 1001\n",
    "\n",
    "# 데이터베이스에 데이터 삽입 (중복된 값 무시)\n",
    "for index, row in df.iterrows():\n",
    "    cursor.execute(\"INSERT INTO Drink VALUES (?, ?, ?, ?, ?, ?, ?, ?, ?, ?, ?, ?, ?, ?)\",\n",
    "                   (str(Drink_code), row['식품명'], row['제조사명'], row['영양성분함량기준량'], row['에너지(kcal)'], row['단백질(g)'], row['지방(g)'], row['탄수화물(g)'],\n",
    "                    row['당류(g)'], row['나트륨(mg)'], row['콜레스테롤(mg)'], row['포화지방산(g)'], row['트랜스지방산(g)'], row['식품중량']))\n",
    "    Drink_code = Drink_code + 1\n",
    "\n",
    "# 커밋\n",
    "conn.commit()\n",
    "\n",
    "# 삽입된 행의 개수 확인\n",
    "cursor.execute(\"SELECT COUNT(*) FROM Drink\")\n",
    "row_count = cursor.fetchone()[0]\n",
    "print(f\"Inserted {row_count} rows.\")\n",
    "\n",
    "# 연결 닫기\n",
    "conn.close()"
   ]
  },
  {
   "cell_type": "code",
   "execution_count": 32,
   "id": "b6a7f73a",
   "metadata": {},
   "outputs": [
    {
     "name": "stdout",
     "output_type": "stream",
     "text": [
      "('13181', '솔의눈', '롯데칠성음료(주)', '100ml', '31', '0.0', '0.0', '7.92', '7.92', '13.0', '0.0', '0.0', '0.0', '240ml')\n"
     ]
    }
   ],
   "source": [
    "conn = sqlite3.connect('Drink_DB.db')\n",
    "cursor = conn.cursor()\n",
    "\n",
    "drink = '솔의눈'\n",
    "cursor.execute(f\"SELECT * FROM Drink where 식품명=='{drink}'\")\n",
    "row_count = cursor.fetchone()\n",
    "\n",
    "if row_count == None:\n",
    "    result = '현재 DB에 데이터가 존재하지 않습니다ㅠ'\n",
    "else:\n",
    "    result = row_count\n",
    "\n",
    "print(result)"
   ]
  },
  {
   "cell_type": "code",
   "execution_count": null,
   "id": "610c0220",
   "metadata": {},
   "outputs": [],
   "source": []
  }
 ],
 "metadata": {
  "kernelspec": {
   "display_name": "Python 3 (ipykernel)",
   "language": "python",
   "name": "python3"
  },
  "language_info": {
   "codemirror_mode": {
    "name": "ipython",
    "version": 3
   },
   "file_extension": ".py",
   "mimetype": "text/x-python",
   "name": "python",
   "nbconvert_exporter": "python",
   "pygments_lexer": "ipython3",
   "version": "3.9.7"
  }
 },
 "nbformat": 4,
 "nbformat_minor": 5
}
